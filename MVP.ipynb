{
  "nbformat": 4,
  "nbformat_minor": 0,
  "metadata": {
    "colab": {
      "provenance": [],
      "authorship_tag": "ABX9TyOn0ulXBt62r5FtuOuU2bgp",
      "include_colab_link": true
    },
    "kernelspec": {
      "name": "python3",
      "display_name": "Python 3"
    },
    "language_info": {
      "name": "python"
    }
  },
  "cells": [
    {
      "cell_type": "markdown",
      "metadata": {
        "id": "view-in-github",
        "colab_type": "text"
      },
      "source": [
        "<a href=\"https://colab.research.google.com/github/thiagomedina/mvp_40530010063_20240_01/blob/main/MVP.ipynb\" target=\"_parent\"><img src=\"https://colab.research.google.com/assets/colab-badge.svg\" alt=\"Open In Colab\"/></a>"
      ]
    },
    {
      "cell_type": "markdown",
      "source": [
        "# Classificação de Movimentos Percentuais do Bitcoin(BTC)\n",
        " O notebook apresenta a resolução de um problema de classificação baseado nos movimentos percentuais do Bitcoin. O objetivo é prever se a variação percentual diária será maior que um limite pré-definido.\n",
        "\n",
        "\n",
        "\n",
        "**Etapas abordadas:**\n",
        "1. Carga dos dados\n",
        "2. Pré-processamento\n",
        "3. Treinamento dos modelos (KNN, Decision Tree, Naive Bayes e SVM)\n",
        "4. Otimização de hiperparâmetros\n",
        "5. Avaliação e comparação dos resultados\n",
        "6. Exportação do modelo final"
      ],
      "metadata": {
        "id": "6R35pveo48WZ"
      }
    },
    {
      "cell_type": "markdown",
      "source": [
        "## Carga dos Dados\n",
        "\n",
        "a lib `yfinance` é utilizada para carregar os dados históricos. No intervalo de 5 anos.\n",
        "\n",
        "Em seguida, são criados alguns indicadores, como as médias móveis de 10 e 20 dias, que ajudam a suavizar a volatilidade e identificar tendências de longo prazo, o índice de força relativa para capturar a força do movimento de preço.\n",
        "\n",
        "O objetivo é prever se o preço do Bitcoin irá aumentar mais de 1% no próximo dia, com base em dados históricos e alguns indicadores para analisar tendencia. O resuldado final será:\n",
        "\n",
        "1 == Quando a variação percentual do preço de fechamento em relação ao dia anterior é superior a 1%\n",
        "\n",
        "0 == Quando a variação é igual ou inferior a 1%\n",
        "\n",
        "\n",
        "\n",
        "\n"
      ],
      "metadata": {
        "id": "iYrIoQce9AFf"
      }
    },
    {
      "cell_type": "code",
      "execution_count": null,
      "metadata": {
        "colab": {
          "base_uri": "https://localhost:8080/"
        },
        "id": "QKxhlqH_1zM9",
        "outputId": "595af8a8-d908-4393-c968-203487b64254"
      },
      "outputs": [
        {
          "output_type": "stream",
          "name": "stderr",
          "text": [
            "\r[*********************100%***********************]  1 of 1 completed\n"
          ]
        }
      ],
      "source": [
        "import pandas as pd\n",
        "import numpy as np\n",
        "import yfinance as yf\n",
        "from sklearn.model_selection import train_test_split, GridSearchCV, cross_val_score\n",
        "from sklearn.preprocessing import StandardScaler\n",
        "from sklearn.pipeline import Pipeline\n",
        "from sklearn.neighbors import KNeighborsClassifier\n",
        "from sklearn.tree import DecisionTreeClassifier\n",
        "from sklearn.naive_bayes import GaussianNB\n",
        "from sklearn.svm import SVC\n",
        "from sklearn.metrics import accuracy_score, classification_report\n",
        "import joblib\n",
        "from collections import Counter\n",
        "from imblearn.over_sampling import SMOTE\n",
        "\n",
        "data = yf.download('BTC-USD', period='5y', interval='1d')\n",
        "\n",
        "data['MA10'] = data['Close'].rolling(window=10).mean()\n",
        "data['MA20'] = data['Close'].rolling(window=20).mean()\n",
        "\n",
        "delta = data['Close'].diff(1)\n",
        "delta = delta.dropna()\n",
        "up = delta.copy()\n",
        "down = delta.copy()\n",
        "up[up < 0] = 0\n",
        "down[down > 0] = 0\n",
        "time_period = 14\n",
        "AVG_Gain = up.rolling(window=time_period).mean()\n",
        "AVG_Loss = abs(down.rolling(window=time_period).mean())\n",
        "RS = AVG_Gain / AVG_Loss\n",
        "RSI = 100.0 - (100.0 / (1.0 + RS))\n",
        "data['RSI'] = RSI\n",
        "\n",
        "data['Volatility'] = data['Close'].rolling(window=10).std()\n",
        "\n",
        "data['Price_Change'] = data['Close'].pct_change()\n",
        "threshold = 0.01\n",
        "data['Trend'] = np.where(data['Price_Change'] > threshold, 1, 0)\n",
        "data['Trend'] = data['Trend'].shift(-1)\n",
        "\n",
        "\n",
        "data = data.dropna()\n",
        "features = ['Open', 'High', 'Low', 'Volume', 'MA10', 'MA20', 'RSI', 'Volatility']\n",
        "X = data[features]\n",
        "y = data['Trend']"
      ]
    },
    {
      "cell_type": "markdown",
      "source": [
        "## Separação entre conjuntos de treino e teste\n",
        "\n",
        "Foi dividido em dois conjuntos: 80% para treino e 20% para teste. O conjunto de treino é utilizado para treinar, e o conjunto de teste servirá para avaliar a performance em dados não vistos.\n",
        "\n",
        "\n"
      ],
      "metadata": {
        "id": "n-F-_wm1_VHW"
      }
    },
    {
      "cell_type": "code",
      "source": [
        "\n",
        "X_train, X_test, y_train, y_test = train_test_split(X, y, test_size=0.2, stratify=y, random_state=42)\n",
        "\n",
        "print('distribuição antes do balanceamento:', Counter(y_train))\n",
        "\n",
        "sm = SMOTE(random_state=42)\n",
        "X_train_res, y_train_res = sm.fit_resample(X_train, y_train)\n",
        "\n",
        "print('distribuição depois do balanceamento:', Counter(y_train_res))"
      ],
      "metadata": {
        "id": "3gk-tX2N8QNC",
        "colab": {
          "base_uri": "https://localhost:8080/"
        },
        "outputId": "5daa5c78-3ec0-41ba-db8c-f0eee6b77e0c"
      },
      "execution_count": null,
      "outputs": [
        {
          "output_type": "stream",
          "name": "stdout",
          "text": [
            "distribuição antes do balanceamento: Counter({0.0: 1359, 1.0: 87})\n",
            "distribuição depois do balanceamento: Counter({0.0: 1359, 1.0: 1359})\n"
          ]
        }
      ]
    },
    {
      "cell_type": "markdown",
      "source": [
        "## Criação de Pipelines\n",
        "\n",
        "Pipelines para os modelos KNN, SVM, Árvore de Decisão e Naive Bayes.\n"
      ],
      "metadata": {
        "id": "UQidRNoHFZEc"
      }
    },
    {
      "cell_type": "code",
      "source": [
        "pipelines = {\n",
        "    'knn': Pipeline([('scaler', StandardScaler()), ('knn', KNeighborsClassifier())]),\n",
        "    'dt': Pipeline([('scaler', StandardScaler()), ('dt', DecisionTreeClassifier())]),\n",
        "    'nb': Pipeline([('scaler', StandardScaler()), ('nb', GaussianNB())]),\n",
        "    'svm': Pipeline([('scaler', StandardScaler()), ('svm', SVC())])\n",
        "}\n",
        "\n",
        "param_grids = {\n",
        "    'knn': {'knn__n_neighbors': [3, 5, 7, 9, 11]},\n",
        "    'dt': {'dt__max_depth': [None, 5, 10, 15], 'dt__min_samples_split': [2, 5, 10]},\n",
        "    'nb': {},\n",
        "    'svm': {'svm__C': [0.1, 1, 10, 100], 'svm__kernel': ['linear', 'rbf', 'poly']}\n",
        "}\n",
        "\n",
        "best_models = {}\n",
        "best_scores = {}"
      ],
      "metadata": {
        "id": "AjymCTGeFiQF"
      },
      "execution_count": null,
      "outputs": []
    },
    {
      "cell_type": "markdown",
      "source": [
        "## Otimização de Hiperparâmetros com GridSearchCV e cross-validaton\n",
        "Para cada modelo, é utilizado `GridSearchCV` para otimizar os hiperparâmetros e `cross-validation` para validar os resultados. Os modelos são avaliados com base em métricas como acurácia e F1-score, para balancear a sensibilidade do modelo tanto para acertos quanto para erros.\n"
      ],
      "metadata": {
        "id": "Bgp6nRXCFuJX"
      }
    },
    {
      "cell_type": "code",
      "source": [
        "for key in pipelines.keys():\n",
        "    grid = GridSearchCV(pipelines[key], param_grids[key], cv=5, scoring='accuracy')\n",
        "    grid.fit(X_train_res, y_train_res)\n",
        "    best_models[key] = grid.best_estimator_\n",
        "    scores = cross_val_score(grid.best_estimator_, X_train_res, y_train_res, cv=5, scoring='accuracy')\n",
        "    best_scores[key] = scores.mean()\n",
        "    print(f\"Modelo: {key}, Acuracia media: {scores.mean():.4f}\")\n"
      ],
      "metadata": {
        "colab": {
          "base_uri": "https://localhost:8080/"
        },
        "id": "S_PPFj9bF6cF",
        "outputId": "de7e6e95-a809-4af5-ed14-fb12959b547b"
      },
      "execution_count": null,
      "outputs": [
        {
          "output_type": "stream",
          "name": "stdout",
          "text": [
            "Modelo: knn, Acuracia media: 0.8183\n",
            "Modelo: dt, Acuracia media: 0.8208\n",
            "Modelo: nb, Acuracia media: 0.5865\n",
            "Modelo: svm, Acuracia media: 0.7991\n"
          ]
        }
      ]
    },
    {
      "cell_type": "markdown",
      "source": [
        "## Exportação do Melhor Modelo\n",
        "# Análise dos Resultados\n",
        "\n",
        "Após o treinamento, o modelo SVM apresentou o melhor desempenho, a média móvel de 10 dias foi um dos indicadores mais relevantes para o modelo, enquanto o índice de volatilidade teve menos impacto.\n",
        "\n",
        "O modelo teve dificuldade em prever corretamente mudanças bruscas de tendência,isso pode indicar a necessidade de incorporar mais dados ou de testar novos modelos.\n",
        "\n"
      ],
      "metadata": {
        "id": "Vn4uqN4EHE0E"
      }
    },
    {
      "cell_type": "code",
      "source": [
        "\n",
        "best_model_key = max(best_scores, key=best_scores.get)\n",
        "best_model = best_models[best_model_key]\n",
        "print(f\"Melhor modelo: {best_model_key}\")\n",
        "\n",
        "best_model.fit(X_train_res, y_train_res)\n",
        "y_pred = best_model.predict(X_test)\n",
        "accuracy = accuracy_score(y_test, y_pred)\n",
        "print(f\"Acuracia do melhor modelo ({best_model_key}) no conjunto de teste: {accuracy:.4f}\")\n",
        "print(classification_report(y_test, y_pred))\n",
        "\n",
        "joblib.dump(best_model, 'bitcoin_trend_model.pkl')\n",
        "joblib.dump(X_test, 'x_test.pkl')\n",
        "joblib.dump(y_test, 'y_test.pkl')"
      ],
      "metadata": {
        "colab": {
          "base_uri": "https://localhost:8080/"
        },
        "id": "k6DzWegsHLsn",
        "outputId": "ac1d13af-40cc-40c6-d342-ff80a018c28b"
      },
      "execution_count": null,
      "outputs": [
        {
          "output_type": "stream",
          "name": "stdout",
          "text": [
            "Melhor modelo: dt\n",
            "Acuracia do melhor modelo (dt) no conjunto de teste: 0.7293\n",
            "              precision    recall  f1-score   support\n",
            "\n",
            "         0.0       0.94      0.76      0.84       340\n",
            "         1.0       0.08      0.32      0.12        22\n",
            "\n",
            "    accuracy                           0.73       362\n",
            "   macro avg       0.51      0.54      0.48       362\n",
            "weighted avg       0.89      0.73      0.80       362\n",
            "\n"
          ]
        },
        {
          "output_type": "execute_result",
          "data": {
            "text/plain": [
              "['y_test.pkl']"
            ]
          },
          "metadata": {},
          "execution_count": 6
        }
      ]
    },
    {
      "cell_type": "markdown",
      "source": [
        "# Conclusão\n",
        "\n",
        "Foi desenvolvido um modelo de previsão de tendência do Bitcoin. Os resultados mostraram que o **SVM** foi o mais eficiente.\n",
        "\n",
        "Alguns passos que podem ajudar a melhorar o modelo no futuro:\n",
        "- Coletar mais dados históricos para aumentar o tamanho do conjunto de treino.\n",
        "- Testar modelos mais complexos, como LSTM, que são melhores para séries temporais.\n",
        "\n"
      ],
      "metadata": {
        "id": "qUAL-z_wo2Nf"
      }
    },
    {
      "cell_type": "code",
      "source": [],
      "metadata": {
        "id": "HKzlQJZMo6oH"
      },
      "execution_count": null,
      "outputs": []
    }
  ]
}